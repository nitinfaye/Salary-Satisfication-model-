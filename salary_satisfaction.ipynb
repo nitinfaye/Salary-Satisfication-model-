{
  "nbformat": 4,
  "nbformat_minor": 0,
  "metadata": {
    "colab": {
      "name": "salary.satisfaction.ipynb",
      "provenance": [],
      "collapsed_sections": [],
      "authorship_tag": "ABX9TyP0ilSU7XYKdSvmTGXw5RHB",
      "include_colab_link": true
    },
    "kernelspec": {
      "name": "python3",
      "display_name": "Python 3"
    },
    "language_info": {
      "name": "python"
    }
  },
  "cells": [
    {
      "cell_type": "markdown",
      "metadata": {
        "id": "view-in-github",
        "colab_type": "text"
      },
      "source": [
        "<a href=\"https://colab.research.google.com/github/nitinfaye/Salary-Satisfication-model-/blob/main/salary_satisfaction.ipynb\" target=\"_parent\"><img src=\"https://colab.research.google.com/assets/colab-badge.svg\" alt=\"Open In Colab\"/></a>"
      ]
    },
    {
      "cell_type": "markdown",
      "metadata": {
        "id": "yzVV2lcJPy_J"
      },
      "source": [
        "#install scikit-learn liabrary\n"
      ]
    },
    {
      "cell_type": "code",
      "metadata": {
        "colab": {
          "base_uri": "https://localhost:8080/"
        },
        "id": "MrPzW8kcLxjI",
        "outputId": "4f4f616c-dd6a-4054-e1f8-4b5a94a105fb"
      },
      "source": [
        "!pip install -U scikit-learn\n",
        "!pip install pandas"
      ],
      "execution_count": 1,
      "outputs": [
        {
          "output_type": "stream",
          "text": [
            "Requirement already up-to-date: scikit-learn in /usr/local/lib/python3.7/dist-packages (0.24.2)\n",
            "Requirement already satisfied, skipping upgrade: scipy>=0.19.1 in /usr/local/lib/python3.7/dist-packages (from scikit-learn) (1.4.1)\n",
            "Requirement already satisfied, skipping upgrade: joblib>=0.11 in /usr/local/lib/python3.7/dist-packages (from scikit-learn) (1.0.1)\n",
            "Requirement already satisfied, skipping upgrade: numpy>=1.13.3 in /usr/local/lib/python3.7/dist-packages (from scikit-learn) (1.19.5)\n",
            "Requirement already satisfied, skipping upgrade: threadpoolctl>=2.0.0 in /usr/local/lib/python3.7/dist-packages (from scikit-learn) (2.1.0)\n",
            "Requirement already satisfied: pandas in /usr/local/lib/python3.7/dist-packages (1.1.5)\n",
            "Requirement already satisfied: numpy>=1.15.4 in /usr/local/lib/python3.7/dist-packages (from pandas) (1.19.5)\n",
            "Requirement already satisfied: pytz>=2017.2 in /usr/local/lib/python3.7/dist-packages (from pandas) (2018.9)\n",
            "Requirement already satisfied: python-dateutil>=2.7.3 in /usr/local/lib/python3.7/dist-packages (from pandas) (2.8.1)\n",
            "Requirement already satisfied: six>=1.5 in /usr/local/lib/python3.7/dist-packages (from python-dateutil>=2.7.3->pandas) (1.15.0)\n"
          ],
          "name": "stdout"
        }
      ]
    },
    {
      "cell_type": "markdown",
      "metadata": {
        "id": "p13rlaGxP8_S"
      },
      "source": [
        "##import liabrary"
      ]
    },
    {
      "cell_type": "code",
      "metadata": {
        "id": "OlaQMoJtFYF3"
      },
      "source": [
        "import os\n",
        "import csv\n",
        "import datetime\n",
        "import joblib\n",
        "import warnings\n",
        "warnings.filterwarnings(\"ignore\")\n",
        "\n",
        "import numpy as np\n",
        "import pandas as pd\n",
        "import sklearn.metrics as metrics\n",
        "from sklearn.metrics import accuracy_score\n",
        "from sklearn.metrics import f1_score\n",
        "from random import Random\n",
        "from sklearn.model_selection import train_test_split\n",
        "from sklearn.ensemble import RandomForestRegressor\n",
        "from sklearn.ensemble import RandomForestClassifier\n",
        "from sklearn.preprocessing import MinMaxScaler\n",
        "from sklearn.linear_model import LinearRegression\n",
        "from sklearn.metrics import mean_squared_error, mean_absolute_error, r2_score"
      ],
      "execution_count": 2,
      "outputs": []
    },
    {
      "cell_type": "markdown",
      "metadata": {
        "id": "GocLlRafQF9J"
      },
      "source": [
        "#  Load dataset "
      ]
    },
    {
      "cell_type": "code",
      "metadata": {
        "id": "IDF3t48UNG9E"
      },
      "source": [
        "with open(\"salary,satisfaction.csv\", \"r\",encoding=\"ISO-8859-1\") as file_obj:\n",
        "  file_data = csv.DictReader(file_obj, skipinitialspace = True)\n",
        "  file_list = list(file_data)\n",
        "  file_list\n"
      ],
      "execution_count": 3,
      "outputs": []
    },
    {
      "cell_type": "code",
      "metadata": {
        "colab": {
          "base_uri": "https://localhost:8080/",
          "height": 657
        },
        "id": "XZXXrqTmzPpp",
        "outputId": "9a10fb5f-f910-4753-a3b3-3984a3198bb2"
      },
      "source": [
        "df =pd.DataFrame(file_list)\n",
        "df.head()"
      ],
      "execution_count": 4,
      "outputs": [
        {
          "output_type": "execute_result",
          "data": {
            "text/html": [
              "<div>\n",
              "<style scoped>\n",
              "    .dataframe tbody tr th:only-of-type {\n",
              "        vertical-align: middle;\n",
              "    }\n",
              "\n",
              "    .dataframe tbody tr th {\n",
              "        vertical-align: top;\n",
              "    }\n",
              "\n",
              "    .dataframe thead th {\n",
              "        text-align: right;\n",
              "    }\n",
              "</style>\n",
              "<table border=\"1\" class=\"dataframe\">\n",
              "  <thead>\n",
              "    <tr style=\"text-align: right;\">\n",
              "      <th></th>\n",
              "      <th>id</th>\n",
              "      <th>Target_Salary</th>\n",
              "      <th>Target_Satisfied</th>\n",
              "      <th>LOAN_AMT</th>\n",
              "      <th>Business Title</th>\n",
              "      <th>Civil Service Title</th>\n",
              "      <th>Division/Work Unit</th>\n",
              "      <th>Job Description</th>\n",
              "      <th>Minimum Qual Requirements</th>\n",
              "      <th>Preferred Skills</th>\n",
              "      <th>Additional Information</th>\n",
              "      <th>To Apply</th>\n",
              "      <th>Hours/Shift</th>\n",
              "      <th>Residency Requirement</th>\n",
              "      <th>Posting Date</th>\n",
              "      <th>Posting Updated</th>\n",
              "      <th>Process Date</th>\n",
              "      <th>FormalEducation</th>\n",
              "      <th>UndergradMajor</th>\n",
              "      <th>CompanySize</th>\n",
              "      <th>DevType</th>\n",
              "      <th>YearsCoding</th>\n",
              "      <th>YearsCodingProf</th>\n",
              "      <th>HopeFiveYears</th>\n",
              "      <th>JobSearchStatus</th>\n",
              "      <th>LastNewJob</th>\n",
              "      <th>UpdateCV</th>\n",
              "      <th>CommunicationTools</th>\n",
              "      <th>TimeFullyProductive</th>\n",
              "      <th>EducationTypes</th>\n",
              "      <th>SelfTaughtTypes</th>\n",
              "      <th>TimeAfterBootcamp</th>\n",
              "      <th>HackathonReasons</th>\n",
              "      <th>AgreeDisagree1</th>\n",
              "      <th>AgreeDisagree2</th>\n",
              "      <th>AgreeDisagree3</th>\n",
              "      <th>LanguageWorkedWith</th>\n",
              "      <th>LanguageDesireNextYear</th>\n",
              "      <th>DatabaseWorkedWith</th>\n",
              "      <th>DatabaseDesireNextYear</th>\n",
              "      <th>...</th>\n",
              "      <th>FrameworkDesireNextYear</th>\n",
              "      <th>IDE</th>\n",
              "      <th>OperatingSystem</th>\n",
              "      <th>Methodology</th>\n",
              "      <th>VersionControl</th>\n",
              "      <th>CheckInCode</th>\n",
              "      <th>AIDangerous</th>\n",
              "      <th>AIInteresting</th>\n",
              "      <th>AIResponsible</th>\n",
              "      <th>AIFuture</th>\n",
              "      <th>Age</th>\n",
              "      <th>term</th>\n",
              "      <th>loan_status</th>\n",
              "      <th>pymnt_plan</th>\n",
              "      <th>orignal_website_directory</th>\n",
              "      <th>purpose</th>\n",
              "      <th>title</th>\n",
              "      <th>zip_code</th>\n",
              "      <th>addr_state</th>\n",
              "      <th>dti</th>\n",
              "      <th>earliest_cr_line</th>\n",
              "      <th>last_pymnt_d</th>\n",
              "      <th>last_pymnt_amnt</th>\n",
              "      <th>next_pymnt_d</th>\n",
              "      <th>last_credit_pull_d</th>\n",
              "      <th>Time</th>\n",
              "      <th>emp_length</th>\n",
              "      <th>your_favoritearticle_today</th>\n",
              "      <th>url</th>\n",
              "      <th>Email</th>\n",
              "      <th>homeaddress</th>\n",
              "      <th>latitude</th>\n",
              "      <th>longitude</th>\n",
              "      <th>PHONE</th>\n",
              "      <th>officeaddress</th>\n",
              "      <th>website</th>\n",
              "      <th>dateAdded</th>\n",
              "      <th>previousaddress</th>\n",
              "      <th>phones</th>\n",
              "      <th>CrimeTime</th>\n",
              "    </tr>\n",
              "  </thead>\n",
              "  <tbody>\n",
              "    <tr>\n",
              "      <th>0</th>\n",
              "      <td>68407277</td>\n",
              "      <td>42405</td>\n",
              "      <td>0</td>\n",
              "      <td>$3,600.00</td>\n",
              "      <td>Account Manager</td>\n",
              "      <td>CONTRACT REVIEWER (OFFICE OF L</td>\n",
              "      <td>Strategy &amp; Analytics</td>\n",
              "      <td>Division of Economic &amp; Financial Opportunity (...</td>\n",
              "      <td>1.\\tA baccalaureate degree from an accredited ...</td>\n",
              "      <td>â¢\\tExcellent interpersonal and organizationa...</td>\n",
              "      <td>Salary range for this position is: $42,405 - $...</td>\n",
              "      <td></td>\n",
              "      <td></td>\n",
              "      <td>New York City residency is generally required ...</td>\n",
              "      <td>2011-06-24T00:00:00.000</td>\n",
              "      <td>2011-06-24T00:00:00.000</td>\n",
              "      <td>2019-12-17T00:00:00.000</td>\n",
              "      <td>Bachelors degree (BA, BS, B.Eng., etc.)</td>\n",
              "      <td>Mathematics or statistics</td>\n",
              "      <td>20 to 99 employees</td>\n",
              "      <td>Full-stack developer</td>\n",
              "      <td>3-5 years</td>\n",
              "      <td>3-5 years</td>\n",
              "      <td>Working as a founder or co-founder of my own c...</td>\n",
              "      <td>Im not actively looking, but I am open to new...</td>\n",
              "      <td>Less than a year ago</td>\n",
              "      <td>My job status or other personal status changed</td>\n",
              "      <td>Slack</td>\n",
              "      <td>One to three months</td>\n",
              "      <td>Taught yourself a new language, framework, or ...</td>\n",
              "      <td>The official documentation and/or standards fo...</td>\n",
              "      <td>NA</td>\n",
              "      <td>To build my professional network</td>\n",
              "      <td>Strongly agree</td>\n",
              "      <td>Strongly agree</td>\n",
              "      <td>Neither Agree nor Disagree</td>\n",
              "      <td>JavaScript;Python;HTML;CSS</td>\n",
              "      <td>JavaScript;Python;HTML;CSS</td>\n",
              "      <td>Redis;SQL Server;MySQL;PostgreSQL;Amazon RDS/A...</td>\n",
              "      <td>Redis;SQL Server;MySQL;PostgreSQL;Amazon RDS/A...</td>\n",
              "      <td>...</td>\n",
              "      <td>Django;React</td>\n",
              "      <td>Komodo;Vim;Visual Studio Code</td>\n",
              "      <td>Linux-based</td>\n",
              "      <td>Agile;Scrum</td>\n",
              "      <td>Git</td>\n",
              "      <td>Multiple times per day</td>\n",
              "      <td>Artificial intelligence surpassing human intel...</td>\n",
              "      <td>Algorithms making important decisions</td>\n",
              "      <td>The developers or the people creating the AI</td>\n",
              "      <td>I'm excited about the possibilities more than ...</td>\n",
              "      <td>25 - 34 years old</td>\n",
              "      <td>36 months</td>\n",
              "      <td>Fully Paid</td>\n",
              "      <td>n</td>\n",
              "      <td>https://lendingclub.com/browse/loanDetail.acti...</td>\n",
              "      <td>debt_consolidation</td>\n",
              "      <td>Debt consolidation</td>\n",
              "      <td>190xx</td>\n",
              "      <td>PA</td>\n",
              "      <td>5.91</td>\n",
              "      <td>3-Aug</td>\n",
              "      <td>19-Jan</td>\n",
              "      <td>122.67</td>\n",
              "      <td></td>\n",
              "      <td>19-Mar</td>\n",
              "      <td>3/22/2016 9:51</td>\n",
              "      <td>&lt; 1 year</td>\n",
              "      <td>https://www.reuters.com/article/us-tesla-crash...</td>\n",
              "      <td>nobell.it/70ffb52d079109dca5664cce6f317373782/...</td>\n",
              "      <td>mstephenson@fernandez.com</td>\n",
              "      <td>346 W Magnolia Ave Auburn, AL 36832 US</td>\n",
              "      <td>32.60681297</td>\n",
              "      <td>-85.48732833</td>\n",
              "      <td>(91) 555 22 82</td>\n",
              "      <td>PO Box 4653, Stockton, California, 95204</td>\n",
              "      <td>http://www.valleybrew.com/</td>\n",
              "      <td>2016-04-22T02:47:48Z</td>\n",
              "      <td>1045 San Pablo Ave</td>\n",
              "      <td>(510) 528-2375</td>\n",
              "      <td>23:30:00</td>\n",
              "    </tr>\n",
              "    <tr>\n",
              "      <th>1</th>\n",
              "      <td>68355089</td>\n",
              "      <td>60740</td>\n",
              "      <td>1</td>\n",
              "      <td>$24,700.00</td>\n",
              "      <td>EXECUTIVE DIRECTOR, BUSINESS DEVELOPMENT</td>\n",
              "      <td>ADMINISTRATIVE BUSINESS PROMOT</td>\n",
              "      <td>Tech Talent Pipeline</td>\n",
              "      <td>The New York City Department of Small Business...</td>\n",
              "      <td>1. A baccalaureate degree from an accredited c...</td>\n",
              "      <td></td>\n",
              "      <td></td>\n",
              "      <td>In addition to applying through this website, ...</td>\n",
              "      <td></td>\n",
              "      <td>New York City residency is generally required ...</td>\n",
              "      <td>2012-01-26T00:00:00.000</td>\n",
              "      <td>2012-01-26T00:00:00.000</td>\n",
              "      <td>2019-12-17T00:00:00.000</td>\n",
              "      <td>Bachelors degree (BA, BS, B.Eng., etc.)</td>\n",
              "      <td>A natural science (ex. biology, chemistry, phy...</td>\n",
              "      <td>10,000 or more employees</td>\n",
              "      <td>Database administrator;DevOps specialist;Full-...</td>\n",
              "      <td>30 or more years</td>\n",
              "      <td>18-20 years</td>\n",
              "      <td>Working in a different or more specialized tec...</td>\n",
              "      <td>I am actively looking for a job</td>\n",
              "      <td>More than 4 years ago</td>\n",
              "      <td>I saw an employers advertisement</td>\n",
              "      <td>Confluence;Office / productivity suite (Micros...</td>\n",
              "      <td>One to three months</td>\n",
              "      <td>Taught yourself a new language, framework, or ...</td>\n",
              "      <td>The official documentation and/or standards fo...</td>\n",
              "      <td>NA</td>\n",
              "      <td>NA</td>\n",
              "      <td>Agree</td>\n",
              "      <td>Agree</td>\n",
              "      <td>Neither Agree nor Disagree</td>\n",
              "      <td>JavaScript;Python;Bash/Shell</td>\n",
              "      <td>Go;Python</td>\n",
              "      <td>Redis;PostgreSQL;Memcached</td>\n",
              "      <td>PostgreSQL</td>\n",
              "      <td>...</td>\n",
              "      <td>React</td>\n",
              "      <td>IPython / Jupyter;Sublime Text;Vim</td>\n",
              "      <td>Linux-based</td>\n",
              "      <td>NA</td>\n",
              "      <td>Git;Subversion</td>\n",
              "      <td>A few times per week</td>\n",
              "      <td>Increasing automation of jobs</td>\n",
              "      <td>Increasing automation of jobs</td>\n",
              "      <td>The developers or the people creating the AI</td>\n",
              "      <td>I'm excited about the possibilities more than ...</td>\n",
              "      <td>35 - 44 years old</td>\n",
              "      <td>36 months</td>\n",
              "      <td>Fully Paid</td>\n",
              "      <td>n</td>\n",
              "      <td>https://lendingclub.com/browse/loanDetail.acti...</td>\n",
              "      <td>small_business</td>\n",
              "      <td>Business</td>\n",
              "      <td>577xx</td>\n",
              "      <td>SD</td>\n",
              "      <td>16.06</td>\n",
              "      <td>Dec-99</td>\n",
              "      <td>16-Jun</td>\n",
              "      <td>926.35</td>\n",
              "      <td></td>\n",
              "      <td>19-Mar</td>\n",
              "      <td>3/22/2016 10:08</td>\n",
              "      <td></td>\n",
              "      <td>https://www.irishtimes.com/business/economy/un...</td>\n",
              "      <td>www.dghjdgf.com/paypal.co.uk/cycgi-bin/webscrc...</td>\n",
              "      <td>hduke@hotmail.com</td>\n",
              "      <td>300 20th St S Birmingham, AL 35233 US</td>\n",
              "      <td>33.5097215</td>\n",
              "      <td>-86.80275567</td>\n",
              "      <td></td>\n",
              "      <td>157 Adams St., Stockton, California, 95204</td>\n",
              "      <td>http://www.valleybrew.com/</td>\n",
              "      <td>2016-04-22T02:47:48Z</td>\n",
              "      <td>1045 San Pablo Ave</td>\n",
              "      <td>(510) 528-2375</td>\n",
              "      <td>23:00:00</td>\n",
              "    </tr>\n",
              "    <tr>\n",
              "      <th>2</th>\n",
              "      <td>68341763</td>\n",
              "      <td>51907.68</td>\n",
              "      <td>0</td>\n",
              "      <td>$20,000.00</td>\n",
              "      <td>Maintenance Worker - Technical Services-Heatin...</td>\n",
              "      <td>MAINTENANCE WORKER</td>\n",
              "      <td>Management Services Department</td>\n",
              "      <td>Under direct supervision, assist in the routin...</td>\n",
              "      <td>1. Three years of full-time satisfactory exper...</td>\n",
              "      <td>1.  A High School Diploma or GED.  2.  CDL Dri...</td>\n",
              "      <td>1.  A Motor Vehicle Driverâs License valid i...</td>\n",
              "      <td>Click the \"Apply Now\" button.</td>\n",
              "      <td></td>\n",
              "      <td>NYCHA has no residency requirements.</td>\n",
              "      <td>2013-10-24T00:00:00.000</td>\n",
              "      <td>2013-12-12T00:00:00.000</td>\n",
              "      <td>2019-12-17T00:00:00.000</td>\n",
              "      <td>Associate degree</td>\n",
              "      <td>Computer science, computer engineering, or sof...</td>\n",
              "      <td>20 to 99 employees</td>\n",
              "      <td>Engineering manager;Full-stack developer</td>\n",
              "      <td>24-26 years</td>\n",
              "      <td>6-8 years</td>\n",
              "      <td>Working as a founder or co-founder of my own c...</td>\n",
              "      <td>Im not actively looking, but I am open to new...</td>\n",
              "      <td>Less than a year ago</td>\n",
              "      <td>NA</td>\n",
              "      <td>NA</td>\n",
              "      <td>NA</td>\n",
              "      <td>NA</td>\n",
              "      <td>NA</td>\n",
              "      <td>NA</td>\n",
              "      <td>NA</td>\n",
              "      <td>NA</td>\n",
              "      <td>NA</td>\n",
              "      <td>NA</td>\n",
              "      <td>NA</td>\n",
              "      <td>NA</td>\n",
              "      <td>NA</td>\n",
              "      <td>NA</td>\n",
              "      <td>...</td>\n",
              "      <td>NA</td>\n",
              "      <td>NA</td>\n",
              "      <td>NA</td>\n",
              "      <td>NA</td>\n",
              "      <td>NA</td>\n",
              "      <td>NA</td>\n",
              "      <td>NA</td>\n",
              "      <td>NA</td>\n",
              "      <td>NA</td>\n",
              "      <td>NA</td>\n",
              "      <td>NA</td>\n",
              "      <td>60 months</td>\n",
              "      <td>Fully Paid</td>\n",
              "      <td>n</td>\n",
              "      <td>https://lendingclub.com/browse/loanDetail.acti...</td>\n",
              "      <td>home_improvement</td>\n",
              "      <td></td>\n",
              "      <td>605xx</td>\n",
              "      <td>IL</td>\n",
              "      <td>10.78</td>\n",
              "      <td>Aug-00</td>\n",
              "      <td>17-Jun</td>\n",
              "      <td>15813.3</td>\n",
              "      <td></td>\n",
              "      <td>19-Mar</td>\n",
              "      <td>3/22/2016 10:08</td>\n",
              "      <td></td>\n",
              "      <td>https://www.irishtimes.com/\\t\\t\\t\\t\\t\\t\\t/life...</td>\n",
              "      <td>serviciosbys.com/paypal.cgi.bin.get-into.herf....</td>\n",
              "      <td>pallen@yahoo.com</td>\n",
              "      <td>3220 Morrow Rd Birmingham, AL 35235 US</td>\n",
              "      <td>33.59558141</td>\n",
              "      <td>-86.64743685</td>\n",
              "      <td></td>\n",
              "      <td>1950 W Freemont, Stockton, California, 95203</td>\n",
              "      <td>http://www.valleybrew.com/</td>\n",
              "      <td>2016-04-22T02:47:48Z</td>\n",
              "      <td>1045 San Pablo Ave</td>\n",
              "      <td>(510) 528-2375</td>\n",
              "      <td>22:53:00</td>\n",
              "    </tr>\n",
              "    <tr>\n",
              "      <th>3</th>\n",
              "      <td>66310712</td>\n",
              "      <td>51907.68</td>\n",
              "      <td>0</td>\n",
              "      <td>$35,000.00</td>\n",
              "      <td>Maintenance Worker - Technical Services-Heatin...</td>\n",
              "      <td>MAINTENANCE WORKER</td>\n",
              "      <td>Management Services Department</td>\n",
              "      <td>Under direct supervision, assist in the routin...</td>\n",
              "      <td>1. Three years of full-time satisfactory exper...</td>\n",
              "      <td>1.  A High School Diploma or GED.  2.  CDL Dri...</td>\n",
              "      <td>1.  A Motor Vehicle Driverâs License valid i...</td>\n",
              "      <td>Click the \"Apply Now\" button.</td>\n",
              "      <td></td>\n",
              "      <td>NYCHA has no residency requirements.</td>\n",
              "      <td>2013-10-24T00:00:00.000</td>\n",
              "      <td>2013-12-12T00:00:00.000</td>\n",
              "      <td>2019-12-17T00:00:00.000</td>\n",
              "      <td>Bachelors degree (BA, BS, B.Eng., etc.)</td>\n",
              "      <td>Computer science, computer engineering, or sof...</td>\n",
              "      <td>100 to 499 employees</td>\n",
              "      <td>Full-stack developer</td>\n",
              "      <td>18-20 years</td>\n",
              "      <td>12-14 years</td>\n",
              "      <td>Working as a founder or co-founder of my own c...</td>\n",
              "      <td>Im not actively looking, but I am open to new...</td>\n",
              "      <td>Less than a year ago</td>\n",
              "      <td>A recruiter contacted me</td>\n",
              "      <td>NA</td>\n",
              "      <td>Three to six months</td>\n",
              "      <td>Completed an industry certification program (e...</td>\n",
              "      <td>The official documentation and/or standards fo...</td>\n",
              "      <td>NA</td>\n",
              "      <td>NA</td>\n",
              "      <td>Disagree</td>\n",
              "      <td>Disagree</td>\n",
              "      <td>Strongly disagree</td>\n",
              "      <td>C#;JavaScript;SQL;TypeScript;HTML;CSS;Bash/Shell</td>\n",
              "      <td>C#;JavaScript;SQL;TypeScript;HTML;CSS;Bash/Shell</td>\n",
              "      <td>SQL Server;Microsoft Azure (Tables, CosmosDB, ...</td>\n",
              "      <td>SQL Server;Microsoft Azure (Tables, CosmosDB, ...</td>\n",
              "      <td>...</td>\n",
              "      <td>Angular;.NET Core;React</td>\n",
              "      <td>Visual Studio;Visual Studio Code</td>\n",
              "      <td>Windows</td>\n",
              "      <td>Agile;Kanban;Scrum</td>\n",
              "      <td>Git</td>\n",
              "      <td>Multiple times per day</td>\n",
              "      <td>Artificial intelligence surpassing human intel...</td>\n",
              "      <td>Artificial intelligence surpassing human intel...</td>\n",
              "      <td>A governmental or other regulatory body</td>\n",
              "      <td>I don't care about it, or I haven't thought ab...</td>\n",
              "      <td>35 - 44 years old</td>\n",
              "      <td>60 months</td>\n",
              "      <td>Current</td>\n",
              "      <td>n</td>\n",
              "      <td>https://lendingclub.com/browse/loanDetail.acti...</td>\n",
              "      <td>debt_consolidation</td>\n",
              "      <td>Debt consolidation</td>\n",
              "      <td>076xx</td>\n",
              "      <td>NJ</td>\n",
              "      <td>17.06</td>\n",
              "      <td>8-Sep</td>\n",
              "      <td>19-Feb</td>\n",
              "      <td>829.9</td>\n",
              "      <td>19-Apr</td>\n",
              "      <td>19-Mar</td>\n",
              "      <td>3/22/2016 10:08</td>\n",
              "      <td>10+ years</td>\n",
              "      <td>https://www.aljazeera.com/news/2019/09/north-k...</td>\n",
              "      <td>mail.printakid.com/www.online.americanexpress....</td>\n",
              "      <td>riverarebecca@gmail.com</td>\n",
              "      <td>4719 Highway 280 Birmingham, AL 35242 US</td>\n",
              "      <td>33.42258215</td>\n",
              "      <td>-86.69827947</td>\n",
              "      <td>2125557818</td>\n",
              "      <td>102 S. State St., Ukiah, California, 95482</td>\n",
              "      <td>http://www.ukiahbrewingco.com/</td>\n",
              "      <td>2016-04-22T02:47:48Z</td>\n",
              "      <td>1045 San Pablo Ave</td>\n",
              "      <td>(510) 528-2375</td>\n",
              "      <td>22:50:00</td>\n",
              "    </tr>\n",
              "    <tr>\n",
              "      <th>4</th>\n",
              "      <td>68476807</td>\n",
              "      <td>35</td>\n",
              "      <td>1</td>\n",
              "      <td>$10,400.00</td>\n",
              "      <td>Temporary Painter</td>\n",
              "      <td>PAINTER</td>\n",
              "      <td>Dept of Management &amp; Planning</td>\n",
              "      <td>Responsibilities of selected candidates will i...</td>\n",
              "      <td>1. Five years of full-time satisfactory experi...</td>\n",
              "      <td></td>\n",
              "      <td>SPECIAL NOTE:    1.  This is a temporary assig...</td>\n",
              "      <td>Click the \"Apply Now\" button.</td>\n",
              "      <td></td>\n",
              "      <td>NYCHA has no residency requirement.</td>\n",
              "      <td>2014-01-09T00:00:00.000</td>\n",
              "      <td>2014-01-08T00:00:00.000</td>\n",
              "      <td>2019-12-17T00:00:00.000</td>\n",
              "      <td>Some college/university study without earning ...</td>\n",
              "      <td>Computer science, computer engineering, or sof...</td>\n",
              "      <td>10,000 or more employees</td>\n",
              "      <td>Data or business analyst;Desktop or enterprise...</td>\n",
              "      <td>6-8 years</td>\n",
              "      <td>0-2 years</td>\n",
              "      <td>Working in a different or more specialized tec...</td>\n",
              "      <td>Im not actively looking, but I am open to new...</td>\n",
              "      <td>Between 1 and 2 years ago</td>\n",
              "      <td>My job status or other personal status changed</td>\n",
              "      <td>Office / productivity suite (Microsoft Office,...</td>\n",
              "      <td>Three to six months</td>\n",
              "      <td>Taken a part-time in-person course in programm...</td>\n",
              "      <td>The official documentation and/or standards fo...</td>\n",
              "      <td>NA</td>\n",
              "      <td>NA</td>\n",
              "      <td>Strongly agree</td>\n",
              "      <td>Agree</td>\n",
              "      <td>Strongly disagree</td>\n",
              "      <td>C;C++;Java;Matlab;R;SQL;Bash/Shell</td>\n",
              "      <td>Assembly;C;C++;Matlab;SQL;Bash/Shell</td>\n",
              "      <td>SQL Server;PostgreSQL;Oracle;IBM Db2</td>\n",
              "      <td>PostgreSQL;Oracle;IBM Db2</td>\n",
              "      <td>...</td>\n",
              "      <td>NA</td>\n",
              "      <td>Notepad++;Visual Studio;Visual Studio Code</td>\n",
              "      <td>Windows</td>\n",
              "      <td>Evidence-based software engineering;Formal sta...</td>\n",
              "      <td>Zip file back-ups</td>\n",
              "      <td>Weekly or a few times per month</td>\n",
              "      <td>Algorithms making important decisions</td>\n",
              "      <td>Algorithms making important decisions</td>\n",
              "      <td>The developers or the people creating the AI</td>\n",
              "      <td>I'm excited about the possibilities more than ...</td>\n",
              "      <td>18 - 24 years old</td>\n",
              "      <td>60 months</td>\n",
              "      <td>Fully Paid</td>\n",
              "      <td>n</td>\n",
              "      <td>https://lendingclub.com/browse/loanDetail.acti...</td>\n",
              "      <td>major_purchase</td>\n",
              "      <td>Major purchase</td>\n",
              "      <td>174xx</td>\n",
              "      <td>PA</td>\n",
              "      <td>25.37</td>\n",
              "      <td>Jun-98</td>\n",
              "      <td>16-Jul</td>\n",
              "      <td>10128.96</td>\n",
              "      <td></td>\n",
              "      <td>18-Mar</td>\n",
              "      <td>3/22/2016 10:08</td>\n",
              "      <td>10+ years</td>\n",
              "      <td>https://www.bbc.co.uk/news/av/uk-scotland-4956...</td>\n",
              "      <td>thewhiskeydregs.com/wp-content/themes/widescre...</td>\n",
              "      <td>mstephens@davidson-herman.com</td>\n",
              "      <td>1821 Cherokee Ave SW Cullman, AL 35055 US</td>\n",
              "      <td>34.15413377</td>\n",
              "      <td>-86.84122008</td>\n",
              "      <td>26.47.1555</td>\n",
              "      <td>13011 Newport Ave. #100, Tustin, California, 9...</td>\n",
              "      <td>http://www.tustinbrewery.com/</td>\n",
              "      <td>2016-04-22T02:47:48Z</td>\n",
              "      <td>1045 San Pablo Ave</td>\n",
              "      <td>(510) 528-2375</td>\n",
              "      <td>22:31:00</td>\n",
              "    </tr>\n",
              "  </tbody>\n",
              "</table>\n",
              "<p>5 rows × 83 columns</p>\n",
              "</div>"
            ],
            "text/plain": [
              "         id Target_Salary  ...          phones CrimeTime\n",
              "0  68407277         42405  ...  (510) 528-2375  23:30:00\n",
              "1  68355089         60740  ...  (510) 528-2375  23:00:00\n",
              "2  68341763      51907.68  ...  (510) 528-2375  22:53:00\n",
              "3  66310712      51907.68  ...  (510) 528-2375  22:50:00\n",
              "4  68476807            35  ...  (510) 528-2375  22:31:00\n",
              "\n",
              "[5 rows x 83 columns]"
            ]
          },
          "metadata": {
            "tags": []
          },
          "execution_count": 4
        }
      ]
    },
    {
      "cell_type": "markdown",
      "metadata": {
        "id": "vqfssodpP8jy"
      },
      "source": [
        "##Random Forest Regression"
      ]
    },
    {
      "cell_type": "code",
      "metadata": {
        "colab": {
          "base_uri": "https://localhost:8080/",
          "height": 204
        },
        "id": "mj4lxyiCELh9",
        "outputId": "87c70159-cf39-4e8e-8cef-683bd8eed985"
      },
      "source": [
        "df_new = df.groupby('id').sum()['Target_Salary'].reset_index()\n",
        "df_new.head()"
      ],
      "execution_count": 5,
      "outputs": [
        {
          "output_type": "execute_result",
          "data": {
            "text/html": [
              "<div>\n",
              "<style scoped>\n",
              "    .dataframe tbody tr th:only-of-type {\n",
              "        vertical-align: middle;\n",
              "    }\n",
              "\n",
              "    .dataframe tbody tr th {\n",
              "        vertical-align: top;\n",
              "    }\n",
              "\n",
              "    .dataframe thead th {\n",
              "        text-align: right;\n",
              "    }\n",
              "</style>\n",
              "<table border=\"1\" class=\"dataframe\">\n",
              "  <thead>\n",
              "    <tr style=\"text-align: right;\">\n",
              "      <th></th>\n",
              "      <th>id</th>\n",
              "      <th>Target_Salary</th>\n",
              "    </tr>\n",
              "  </thead>\n",
              "  <tbody>\n",
              "    <tr>\n",
              "      <th>0</th>\n",
              "      <td>361774</td>\n",
              "      <td>82008</td>\n",
              "    </tr>\n",
              "    <tr>\n",
              "      <th>1</th>\n",
              "      <td>65484553</td>\n",
              "      <td>56990</td>\n",
              "    </tr>\n",
              "    <tr>\n",
              "      <th>2</th>\n",
              "      <td>65855720</td>\n",
              "      <td>40275</td>\n",
              "    </tr>\n",
              "    <tr>\n",
              "      <th>3</th>\n",
              "      <td>65856059</td>\n",
              "      <td>31.3132</td>\n",
              "    </tr>\n",
              "    <tr>\n",
              "      <th>4</th>\n",
              "      <td>65885934</td>\n",
              "      <td>71423</td>\n",
              "    </tr>\n",
              "  </tbody>\n",
              "</table>\n",
              "</div>"
            ],
            "text/plain": [
              "         id Target_Salary\n",
              "0    361774         82008\n",
              "1  65484553         56990\n",
              "2  65855720         40275\n",
              "3  65856059       31.3132\n",
              "4  65885934         71423"
            ]
          },
          "metadata": {
            "tags": []
          },
          "execution_count": 5
        }
      ]
    },
    {
      "cell_type": "code",
      "metadata": {
        "id": "md2eBPuTE8Ld"
      },
      "source": [
        "def tts(data):\n",
        "  \n",
        "    train, test = train_test_split(data.values ,test_size=0.20,random_state= 110)\n",
        "    \n",
        "    return train, test\n",
        "\n",
        "train, test = tts(df_new)"
      ],
      "execution_count": 6,
      "outputs": []
    },
    {
      "cell_type": "code",
      "metadata": {
        "colab": {
          "base_uri": "https://localhost:8080/"
        },
        "id": "qnKhqMfZFhVn",
        "outputId": "05b3041a-db1e-4794-c75e-30e4fea1015e"
      },
      "source": [
        "print(train.shape)\n",
        "print(test.shape)"
      ],
      "execution_count": 7,
      "outputs": [
        {
          "output_type": "stream",
          "text": [
            "(2356, 2)\n",
            "(590, 2)\n"
          ],
          "name": "stdout"
        }
      ]
    },
    {
      "cell_type": "code",
      "metadata": {
        "id": "jbySM_uVD99_"
      },
      "source": [
        "def scale_data(train_set, test_set):\n",
        "    #apply Min Max Scaler\n",
        "    scaler = MinMaxScaler(feature_range=(-1, 1))\n",
        "    scaler = scaler.fit(train_set)\n",
        "    \n",
        "    # reshape training set\n",
        "    train_set = train_set.reshape(train_set.shape[0], train_set.shape[1])\n",
        "    train_set_scaled = scaler.transform(train_set)\n",
        "    \n",
        "    # reshape test set\n",
        "    test_set = test_set.reshape(test_set.shape[0], test_set.shape[1])\n",
        "    test_set_scaled = scaler.transform(test_set)\n",
        "    \n",
        "    X_train, y_train = train_set_scaled[:, 1:], train_set_scaled[:, 0:1].ravel()\n",
        "    X_test, y_test = test_set_scaled[:, 1:], test_set_scaled[:, 0:1].ravel()\n",
        "    \n",
        "    return X_train, y_train, X_test, y_test, scaler\n",
        "\n",
        "X_train, y_train, X_test, y_test, scaler_object = scale_data(train, test)"
      ],
      "execution_count": 8,
      "outputs": []
    },
    {
      "cell_type": "code",
      "metadata": {
        "colab": {
          "base_uri": "https://localhost:8080/"
        },
        "id": "mPS5ccAMI-3n",
        "outputId": "c2f44f7f-7c1f-426c-ebdc-80a5600a9a28"
      },
      "source": [
        "y_train.shape"
      ],
      "execution_count": 9,
      "outputs": [
        {
          "output_type": "execute_result",
          "data": {
            "text/plain": [
              "(2356,)"
            ]
          },
          "metadata": {
            "tags": []
          },
          "execution_count": 9
        }
      ]
    },
    {
      "cell_type": "code",
      "metadata": {
        "colab": {
          "base_uri": "https://localhost:8080/"
        },
        "id": "m5CK8eOhN8W-",
        "outputId": "d7094397-8bb9-4177-d216-0982e2f11331"
      },
      "source": [
        "y_test"
      ],
      "execution_count": 10,
      "outputs": [
        {
          "output_type": "execute_result",
          "data": {
            "text/plain": [
              "array([ 9.33558273e-01, -7.35468724e-01,  9.63191019e-01,  8.32872264e-01,\n",
              "        8.54209754e-01,  9.92038639e-01,  8.98351415e-01,  6.92601084e-01,\n",
              "        8.10987938e-01,  8.31835810e-01,  9.27200483e-01,  9.77408770e-01,\n",
              "        8.90926026e-01,  9.84399586e-01,  9.62693434e-01,  8.46015173e-01,\n",
              "        9.42070091e-01,  9.78197518e-01,  8.97516312e-01,  8.61293279e-01,\n",
              "        8.90205361e-01,  9.47271195e-01,  9.47993309e-01,  9.33459770e-01,\n",
              "        9.33720513e-01,  9.99660309e-01,  8.10185428e-01,  9.41022773e-01,\n",
              "        8.54871752e-01,  9.41085786e-01,  9.62802802e-01,  8.98212351e-01,\n",
              "        8.17951956e-01,  9.77513067e-01,  8.24844269e-01,  4.44185914e-01,\n",
              "        9.11762309e-01,  9.77045902e-01,  9.69703082e-01,  7.28808907e-01,\n",
              "        9.41219054e-01,  8.81456700e-01,  9.49402771e-01,  9.69818244e-01,\n",
              "        8.18300338e-01,  8.53804154e-01,  9.63535056e-01,  9.03971880e-01,\n",
              "        8.39142415e-01,  8.47707107e-01,  9.34138426e-01,  8.68171107e-01,\n",
              "        9.91270171e-01,  8.39514699e-01,  5.98460456e-01,  5.59248292e-01,\n",
              "        8.47398561e-01,  9.99109851e-01,  9.26175617e-01,  8.18386528e-01,\n",
              "        9.98126270e-01,  8.24726935e-01,  9.11887611e-01,  9.18962445e-01,\n",
              "        9.33991396e-01, -1.26883137e+00,  8.61840840e-01,  9.83778148e-01,\n",
              "        9.84805911e-01,  8.68959855e-01,  8.60996322e-01,  9.71441371e-01,\n",
              "        8.96760156e-01,  8.76472883e-01,  9.83943285e-01,  8.63889485e-02,\n",
              "        8.18380734e-01,  8.81648636e-01,  9.41875258e-01,  9.91499770e-01,\n",
              "        9.62939692e-01,  9.98292132e-01,  8.24747939e-01,  8.75993405e-01,\n",
              "        6.49117801e-01,  8.96957162e-01,  8.97064357e-01,  9.91429514e-01,\n",
              "        9.25813474e-01,  9.69569089e-01,  9.20069155e-01,  8.55054273e-01,\n",
              "        9.91881469e-01,  9.98152344e-01,  8.25084008e-01,  8.39239470e-01,\n",
              "        8.47846894e-01,  9.42124413e-01,  9.05854302e-01,  9.70814138e-01,\n",
              "        9.63124385e-01,  9.12989251e-01, -5.81208668e-01, -5.18601315e-01,\n",
              "        9.26864414e-01,  8.91077402e-01,  9.49582394e-01, -4.24529494e-01,\n",
              "        8.76396108e-01, -4.96581547e-01,  1.03009883e-01, -4.81917372e+01,\n",
              "        9.05342231e-01,  9.77902733e-01,  9.70422299e-01,  8.97001344e-01,\n",
              "        9.91510634e-01,  8.53896138e-01,  9.84109871e-01,  9.85261487e-01,\n",
              "        9.04744694e-01,  9.18947959e-01,  9.83999780e-01,  8.25122395e-01,\n",
              "        8.18161275e-01,  9.69652382e-01,  8.32414515e-01,  8.69458165e-01,\n",
              "        8.69034457e-01,  9.69985554e-01,  8.39355356e-01,  8.61235336e-01,\n",
              "        8.54613906e-01,  8.96584879e-01,  8.47830960e-01,  9.69687872e-01,\n",
              "        9.78598049e-01,  8.47297885e-01, -4.43490599e-01,  8.17945437e-01,\n",
              "        9.40654835e-01,  9.05915142e-01,  5.98344570e-01,  8.60540745e-01,\n",
              "        8.10260030e-01,  8.10680116e-01,  8.97556148e-01,  2.16409297e-01,\n",
              "        9.34584587e-01, -5.38972606e-01,  8.68492690e-01,  9.49145649e-01,\n",
              "        9.47806443e-01,  8.89871464e-01, -4.43528262e-01,  9.85507021e-01,\n",
              "        8.68369562e-01,  9.70293376e-01,  8.61321526e-01,  8.69030835e-01,\n",
              "        9.48674863e-01,  8.97041180e-01, -7.35759887e-01,  9.19632410e-01,\n",
              "        5.98365574e-01,  9.77828132e-01,  8.10407060e-01,  9.49566460e-01,\n",
              "        3.46740365e-01,  8.25165853e-01,  9.40887331e-01,  9.99419846e-01,\n",
              "        8.91057846e-01,  8.31117317e-01,  8.61478697e-01,  9.04387621e-01,\n",
              "        8.53659296e-01,  8.68712874e-01,  9.12390266e-01,  9.27169339e-01,\n",
              "        8.46998755e-01,  9.33621286e-01,  5.98342397e-01,  9.98708597e-01,\n",
              "        8.68439817e-01,  8.61793762e-01,  9.05445080e-01,  9.92560126e-01,\n",
              "        8.33062752e-01,  8.97909600e-01,  9.84650914e-01,  9.34413655e-01,\n",
              "        9.62608693e-01,  8.33022192e-01,  5.91099529e-01,  8.17715114e-01,\n",
              "        8.97455472e-01,  8.47993925e-01,  9.77141508e-01,  8.33322771e-01,\n",
              "        5.98530712e-01,  9.85032613e-01,  8.17226220e-01,  8.90327765e-01,\n",
              "        9.12075201e-01,  9.12892921e-01,  8.10302763e-01,  8.24872516e-01,\n",
              "        9.03062176e-01,  8.76154921e-01,  9.42009976e-01,  8.61727851e-01,\n",
              "        9.05788392e-01,  9.99507485e-01,  9.70457065e-01,  8.53562242e-01,\n",
              "       -5.60640371e-01,  8.61851704e-01,  8.31840156e-01,  9.49507793e-01,\n",
              "        8.90873877e-01, -6.02131142e-01,  8.31861884e-01,  6.05796757e-01,\n",
              "        9.41102444e-01,  8.97129543e-01,  9.99610334e-01,  9.04880136e-01,\n",
              "        9.18824106e-01,  8.69000415e-01,  8.25973432e-01,  9.41706862e-02,\n",
              "        8.38849804e-01,  8.61502598e-01,  9.91985042e-01,  9.33700957e-01,\n",
              "        8.52446116e-01,  9.70114477e-01,  8.97169378e-01,  8.11033568e-01,\n",
              "        5.91143710e-01,  8.89242059e-01,  8.33126489e-01,  8.90432062e-01,\n",
              "        9.90642939e-01,  9.84732034e-01,  8.18226461e-01,  8.61346877e-01,\n",
              "       -2.15790394e-02,  4.72832907e-01,  9.19525216e-01,  9.40839528e-01,\n",
              "        9.42180907e-01,  4.44357570e-01,  7.99654298e-01,  8.47665098e-01,\n",
              "        8.38823729e-01,  8.76269358e-01,  8.89642590e-01,  8.32369609e-01,\n",
              "        9.63198262e-01,  8.31954593e-01,  9.92268962e-01,  8.32151599e-01,\n",
              "        9.48277954e-01,  9.05540686e-01,  8.25112255e-01,  6.72981965e-02,\n",
              "        8.18131579e-01,  9.18979828e-01,  8.61246925e-01,  9.48532178e-01,\n",
              "        8.32337016e-01,  9.77609397e-01,  9.26513859e-01,  8.47283399e-01,\n",
              "        8.46477268e-01,  9.41592062e-01,  8.89581025e-01,  9.54005614e-01,\n",
              "        8.61247649e-01,  8.54024337e-01,  8.25063728e-01,  8.53171851e-01,\n",
              "        8.61551850e-01,  9.77889696e-01,  9.12514843e-01,  9.34779420e-01,\n",
              "        8.32613694e-01,  9.04792497e-01,  8.90260406e-01,  9.32116218e-01,\n",
              "        8.18861660e-01,  7.40572411e-02,  8.32087137e-01,  9.85055066e-01,\n",
              "        9.99000484e-01,  9.27073733e-01,  9.69658901e-01,  8.11051675e-01,\n",
              "        6.05439684e-01,  9.04360098e-01,  8.17984549e-01,  9.41446480e-01,\n",
              "        9.26513135e-01,  8.18337276e-01,  9.11970180e-01,  9.12596688e-01,\n",
              "        8.38073368e-01,  9.69753782e-01,  9.26322647e-01,  5.91082146e-01,\n",
              "        8.25547552e-01,  9.19547668e-01,  8.10750372e-01,  9.40339046e-01,\n",
              "        9.26371175e-01,  8.25332439e-01,  8.39685631e-01,  4.95001878e-01,\n",
              "        9.70350595e-01,  8.09928306e-01,  8.68944645e-01,  8.40646759e-01,\n",
              "       -5.61031486e-01,  9.61780109e-01,  9.77526828e-01,  5.98511156e-01,\n",
              "        9.70386809e-01,  8.60788451e-01,  8.96947747e-01,  8.46706143e-01,\n",
              "        9.34007331e-01,  8.53686095e-01,  9.34362955e-01,  8.17788267e-01,\n",
              "       -5.32122302e-01,  9.84079451e-01,  8.97204144e-01,  8.18642926e-01,\n",
              "        7.28547439e-01,  8.11199430e-01,  5.91376207e-01,  8.68192836e-01,\n",
              "        8.31693850e-01,  9.84028027e-01,  8.54726171e-01,  9.33157018e-01,\n",
              "        8.53995365e-01,  9.11974525e-01,  8.25875654e-01,  9.48100503e-01,\n",
              "        5.98467699e-01,  9.71087194e-01,  2.83141826e-02,  8.54796427e-01,\n",
              "        8.40118754e-01,  8.97249774e-01,  9.18844386e-01,  8.39928991e-01,\n",
              "        8.62120415e-01,  8.40108614e-01,  9.19496244e-01,  9.70056534e-01,\n",
              "        9.18738640e-01,  9.84507505e-01,  8.25682993e-01,  8.61109310e-01,\n",
              "        9.84011368e-01,  7.06821007e-01,  9.62271899e-01,  8.90020668e-01,\n",
              "        5.51802623e-01,  4.08140332e-01,  9.68939684e-01,  8.47820820e-01,\n",
              "        8.60907234e-01,  8.24446636e-01,  9.84398138e-01,  9.11485632e-01,\n",
              "        8.60366192e-01,  8.61937170e-01,  8.40542462e-01,  8.53970015e-01,\n",
              "        9.99983341e-01,  8.25919835e-01,  9.47797027e-01,  9.05737692e-01,\n",
              "        9.84030200e-01,  9.83912865e-01,  8.69153964e-01,  8.69421950e-01,\n",
              "        9.05013405e-01,  8.40299826e-01,  8.33022916e-01,  8.97370730e-01,\n",
              "        9.11928171e-01,  9.99649445e-01,  9.47941160e-01,  8.53257317e-01,\n",
              "        9.33218582e-01,  8.68464443e-01,  7.92800734e-02,  8.32728856e-01,\n",
              "        9.99831965e-01,  9.19133376e-01,  8.32572410e-01,  9.71448613e-01,\n",
              "        8.40117305e-01,  9.62120524e-01,  9.41562366e-01,  8.62132003e-01,\n",
              "        5.98599519e-01,  9.27018687e-01, -4.84364020e+01,  9.34002985e-01,\n",
              "        9.92224057e-01,  2.32955992e-02,  8.32350054e-01,  9.63100484e-01,\n",
              "        9.91310731e-01,  9.62763690e-01,  9.41654351e-01,  9.03600321e-01,\n",
              "        9.12470662e-01,  8.25197721e-01,  9.42170043e-01,  8.76236041e-01,\n",
              "        3.17971693e-01,  8.97178794e-01,  8.24197481e-01,  8.53591938e-01,\n",
              "        9.18879876e-01,  9.49071048e-01,  9.04324608e-01,  8.97651753e-01,\n",
              "        8.54557412e-01,  8.26144364e-01,  9.49648304e-01, -5.03680282e-01,\n",
              "        9.78196070e-01,  8.32405824e-01,  9.40609205e-01,  9.19152208e-01,\n",
              "        9.77569561e-01,  9.19489001e-01,  9.19355008e-01,  9.26082184e-01,\n",
              "        8.69231463e-01,  9.98326173e-01,  3.58938442e-02, -4.67472460e-01,\n",
              "        9.99850797e-01,  8.32934553e-01,  8.18274988e-01,  8.18654514e-01,\n",
              "        9.26998407e-01,  7.64787855e-01,  8.00314847e-01,  4.14836364e-01,\n",
              "        9.63128006e-01,  9.62325497e-01,  8.90971656e-01,  9.19999623e-01,\n",
              "        9.91686636e-01,  9.19054429e-01,  8.17915017e-01,  8.61807523e-01,\n",
              "        9.20134341e-01,  9.40939480e-01,  8.25162231e-01,  9.91237578e-01,\n",
              "        5.09646957e-01,  8.32777383e-01,  9.62868712e-01,  8.97259914e-01,\n",
              "        9.63378610e-01,  8.53625979e-01,  9.91782242e-01, -9.48899392e-01,\n",
              "        8.10175288e-01,  8.74407217e-01,  8.61392507e-01,  9.41290035e-01,\n",
              "        9.98889668e-01,  8.00608184e-01,  8.47046558e-01,  7.98195584e-01,\n",
              "        5.98478563e-01,  9.92033569e-01,  7.65150722e-01,  8.18506035e-01,\n",
              "        8.25254216e-01,  8.54143120e-01,  8.89891020e-01,  9.04263768e-01,\n",
              "       -8.55057894e-01,  9.25609949e-01,  8.18363351e-01, -4.95498738e-01,\n",
              "        3.46856975e-01,  9.84046134e-01,  6.05532392e-01,  9.05195201e-01,\n",
              "        9.48689349e-01,  9.34082656e-01,  8.75151059e-01,  8.18083776e-01,\n",
              "        8.25131811e-01,  8.32499257e-01,  9.69684975e-01,  6.85146724e-01,\n",
              "        8.53670885e-01,  9.41416060e-01,  9.42373568e-01,  9.49609917e-01,\n",
              "        8.98339102e-01,  9.40685255e-01,  9.98830277e-01,  9.62571030e-01,\n",
              "        8.69247397e-01,  8.47036418e-01,  8.10772101e-01,  9.83870132e-01,\n",
              "        8.54374167e-01,  9.05776079e-01,  9.19261575e-01,  9.69883430e-01,\n",
              "        6.49285835e-01,  6.41832199e-01,  8.47444915e-01,  9.41413163e-01,\n",
              "        1.68427468e-01,  9.41005390e-01,  9.92237818e-01,  9.83991088e-01,\n",
              "        9.91637384e-01,  9.34229687e-01,  9.40993801e-01,  8.39266993e-01,\n",
              "        8.75205381e-01,  9.40790277e-01,  9.98543459e-01,  9.70338282e-01,\n",
              "        8.76209966e-01,  8.53771561e-01,  9.84543719e-01,  9.34539681e-01,\n",
              "       -4.43332704e-01,  8.75393695e-01,  9.77450778e-01,  9.05990468e-01,\n",
              "        9.34705543e-01,  8.39906538e-01,  9.84114217e-01,  7.98399109e-01,\n",
              "       -7.35863460e-01,  9.91877123e-01,  8.46433811e-01,  9.71450786e-01,\n",
              "        8.24585699e-01, -4.29148996e-01,  8.39763854e-01,  8.10110102e-01,\n",
              "        5.98550267e-01,  7.50458564e-01,  9.84809532e-01,  9.84454632e-01,\n",
              "        9.26435636e-01,  9.99597297e-01,  8.75137298e-01, -4.71721851e-01,\n",
              "       -4.42633043e-01,  9.98584019e-01,  9.18906675e-01,  8.54425592e-01,\n",
              "        9.85107939e-01,  9.77313164e-01,  7.98312919e-01,  9.10653426e-01,\n",
              "        8.97801681e-01,  8.54868855e-01,  4.01061877e-01, -5.50827009e-01,\n",
              "        8.47142888e-01,  8.76283119e-01,  2.84836657e-02,  8.75760184e-01,\n",
              "        9.33511194e-01,  2.38503667e-01])"
            ]
          },
          "metadata": {
            "tags": []
          },
          "execution_count": 10
        }
      ]
    },
    {
      "cell_type": "code",
      "metadata": {
        "colab": {
          "base_uri": "https://localhost:8080/"
        },
        "id": "MroBp6qu7FGU",
        "outputId": "d353f5a7-4c15-4e61-a8a7-9ba63df70efb"
      },
      "source": [
        "regressor = RandomForestRegressor(n_estimators=100, max_depth=20)\n",
        "regressor.fit(X_train, y_train)"
      ],
      "execution_count": 11,
      "outputs": [
        {
          "output_type": "execute_result",
          "data": {
            "text/plain": [
              "RandomForestRegressor(max_depth=20)"
            ]
          },
          "metadata": {
            "tags": []
          },
          "execution_count": 11
        }
      ]
    },
    {
      "cell_type": "code",
      "metadata": {
        "colab": {
          "base_uri": "https://localhost:8080/"
        },
        "id": "iWZR9UrtMGsg",
        "outputId": "4b839df1-f6d5-4be1-ae08-cfc4d2f76638"
      },
      "source": [
        "y_pred = regressor.predict(X_test)\n",
        "y_pred"
      ],
      "execution_count": 12,
      "outputs": [
        {
          "output_type": "execute_result",
          "data": {
            "text/plain": [
              "array([ 0.82411105,  0.89049346,  0.81991149,  0.63414044,  0.87726721,\n",
              "        0.93213383, -0.10471542,  0.75450177,  0.68149382,  0.8540556 ,\n",
              "        0.78324804,  0.84959311,  0.8238327 ,  0.78162303,  0.81506349,\n",
              "        0.76381432,  0.73896684,  0.74558672,  0.81506349,  0.87901188,\n",
              "        0.86496292,  0.70339292,  0.86162291,  0.91762043,  0.91295045,\n",
              "        0.83197389,  0.83873399,  0.82877501,  0.92637655,  0.82411105,\n",
              "        0.82138649,  0.93364565,  0.91962393,  0.90131118,  0.81062405,\n",
              "        0.90648583,  0.94428825,  0.84959311,  0.81438887,  0.8862269 ,\n",
              "        0.84959311,  0.95059059,  0.91255108,  0.78658732,  0.87102056,\n",
              "        0.8991408 ,  0.69684406,  0.84013359,  0.87901188,  0.89644694,\n",
              "        0.79515277,  0.8027432 ,  0.7182353 ,  0.82877501,  0.82239006,\n",
              "        0.8184328 ,  0.81506349,  0.89840968,  0.83871964,  0.86162291,\n",
              "        0.79388418,  0.89503979,  0.74454543,  0.45202491,  0.92717552,\n",
              "        0.8491872 ,  0.88617508,  0.62894511,  0.94878063,  0.8862269 ,\n",
              "        0.82877501,  0.88880568,  0.86822647,  0.91678073,  0.51492883,\n",
              "        0.83680419,  0.9367924 ,  0.9045363 ,  0.83028856,  0.70339292,\n",
              "        0.84959311,  0.95570031,  0.78043252,  0.90369122,  0.8862269 ,\n",
              "        0.68040175,  0.82455964,  0.84013359,  0.82492517,  0.79466091,\n",
              "        0.73852516,  0.74454543,  0.92864218,  0.77532308,  0.82411105,\n",
              "        0.6324914 ,  0.89450963,  0.89644694,  0.74939709,  0.91488842,\n",
              "        0.91967995,  0.73852516,  0.8735732 ,  0.72467704,  0.79771304,\n",
              "        0.85251643,  0.79466091,  0.77492291,  0.67651304,  0.76381432,\n",
              "        0.87483619,  0.79546138,  0.78487722,  0.88767208,  0.84959311,\n",
              "        0.8027432 ,  0.87901188,  0.84959311,  0.95570031,  0.88407929,\n",
              "        0.45202491,  0.70864119,  0.91762043,  0.74558672,  0.93213383,\n",
              "        0.88322698,  0.79466091,  0.73852516,  0.97392066,  0.84959311,\n",
              "        0.65631646,  0.91792509,  0.85705344,  0.83871964,  0.88368266,\n",
              "        0.84013359,  0.82987464,  0.86506749,  0.83468808,  0.86961288,\n",
              "        0.77532308,  0.73655667,  0.87901188,  0.37037681,  0.44302988,\n",
              "        0.8512109 ,  0.77770769,  0.88395477,  0.89049346,  0.84013359,\n",
              "        0.89999064,  0.88201203,  0.82138649,  0.76381432,  0.72467704,\n",
              "        0.8238327 ,  0.84013359,  0.59420164,  0.75450177,  0.96446219,\n",
              "        0.87102056,  0.8027432 ,  0.76914137,  0.8491872 ,  0.92097245,\n",
              "        0.91295045,  0.91762043,  0.87726721,  0.81506349,  0.52892425,\n",
              "        0.82987464,  0.91295045,  0.80938278,  0.28818225,  0.82877501,\n",
              "        0.87484268,  0.83871964,  0.82987464,  0.45202491,  0.9136333 ,\n",
              "        0.81506349,  0.8491872 ,  0.504679  ,  0.8543796 ,  0.37037681,\n",
              "        0.88368266,  0.59420164,  0.93355502,  0.87200924,  0.91460485,\n",
              "        0.87102056,  0.79466091,  0.8491872 ,  0.87484566,  0.9045363 ,\n",
              "        0.88499518,  0.84959311,  0.92303412,  0.76687203,  0.74454543,\n",
              "        0.78043252,  0.89644694,  0.83154022,  0.81969001,  0.77770769,\n",
              "        0.88559471,  0.90526105,  0.78043252,  0.77532308,  0.83279347,\n",
              "        0.7182353 ,  0.91038542,  0.90313   ,  0.87205461,  0.79388418,\n",
              "        0.70339292,  0.79388418,  0.67651304,  0.86796005,  0.89049346,\n",
              "        0.76687203,  0.82411105,  0.88426468,  0.79466091,  0.88867781,\n",
              "        0.70339292,  0.89049346,  0.76381432,  0.87901188,  0.94385183,\n",
              "        0.95936662,  0.89840968,  0.84720895,  0.9102289 ,  0.37037681,\n",
              "        0.76687203,  0.76687203,  0.84135656,  0.84013359,  0.82411105,\n",
              "        0.81003703,  0.81003703,  0.76687203,  0.88617508,  0.88722373,\n",
              "        0.87102056,  0.57501319,  0.81506349,  0.89049346,  0.81590397,\n",
              "        0.82411105,  0.59420164,  0.88368266,  0.91210993,  0.84720895,\n",
              "        0.76381432,  0.82492517,  0.81991149,  0.82138649,  0.8491872 ,\n",
              "        0.70339292,  0.79466091,  0.7182353 ,  0.78016883,  0.6433108 ,\n",
              "        0.94449896,  0.71857056,  0.79546138,  0.82411105,  0.84959311,\n",
              "        0.8491872 ,  0.87102056,  0.76381432,  0.8543796 ,  0.72832175,\n",
              "        0.8862269 ,  0.96711293,  0.89607131,  0.87901188,  0.88722373,\n",
              "        0.84135656,  0.92864218,  0.89585675,  0.82932308,  0.76381432,\n",
              "        0.82239006,  0.41530785,  0.85442829,  0.71857056,  0.8543796 ,\n",
              "        0.74558672,  0.78162303,  0.90024508,  0.76381432,  0.89548607,\n",
              "        0.90369122,  0.82138649,  0.87484566,  0.89049346,  0.78654715,\n",
              "        0.65630417,  0.79388418,  0.84283713,  0.76381432,  0.66256099,\n",
              "        0.88322698,  0.82987464,  0.96446219,  0.92869869,  0.86269309,\n",
              "        0.70507173,  0.87901188,  0.90131118,  0.76381432,  0.78035352,\n",
              "        0.88956648,  0.76381432,  0.89049346,  0.68149382,  0.82497963,\n",
              "        0.77532308,  0.86455569,  0.84284351,  0.94996656,  0.78658732,\n",
              "        0.82138649,  0.81003703,  0.79515277,  0.80938278,  0.81438887,\n",
              "        0.84013359,  0.8834535 ,  0.84720895,  0.92469855,  0.72467704,\n",
              "        0.82987464,  0.87880772,  0.8238327 ,  0.7744814 ,  0.89481281,\n",
              "        0.78016883,  0.82877501,  0.83342988,  0.75840365,  0.83154022,\n",
              "        0.94898033,  0.89223473,  0.82932308,  0.89974567,  0.89899014,\n",
              "        0.83871964,  0.78016883,  0.82411105,  0.7182353 ,  0.90492231,\n",
              "        0.87901188,  0.87102056,  0.65630417,  0.872685  ,  0.88322698,\n",
              "        0.73852516,  0.8543796 ,  0.8491872 ,  0.90814212,  0.8577239 ,\n",
              "        0.88956648,  0.8543796 ,  0.84959311,  0.91756769,  0.84959311,\n",
              "        0.81506349,  0.97392066,  0.87484268,  0.8491872 ,  0.8543796 ,\n",
              "        0.84601182,  0.82492517,  0.64803417,  0.82877501,  0.87901188,\n",
              "        0.81438887,  0.88368266,  0.88407929,  0.91032884,  0.15060654,\n",
              "        0.93245862,  0.7744814 ,  0.69684406,  0.8027432 ,  0.91355833,\n",
              "        0.72467704,  0.95059059,  0.81506349,  0.87205461,  0.74213059,\n",
              "        0.872685  ,  0.91962393,  0.78324804,  0.77492291,  0.76381432,\n",
              "        0.8027432 ,  0.76687203,  0.77532308,  0.81003703,  0.89840968,\n",
              "        0.84283713,  0.93213383,  0.9513266 ,  0.88956648,  0.58494637,\n",
              "        0.82411105,  0.88368266,  0.8862269 ,  0.6637154 ,  0.45202491,\n",
              "        0.92469855,  0.84959311,  0.8027432 ,  0.81590397,  0.84283713,\n",
              "        0.504679  ,  0.91658433,  0.88722373,  0.88368266,  0.84283713,\n",
              "        0.79466091,  0.80938278,  0.9045363 ,  0.72467704,  0.75450177,\n",
              "        0.83873399,  0.70339292,  0.89809793,  0.86162291,  0.96034076,\n",
              "        0.88322698,  0.81308852,  0.88355727,  0.78324804,  0.82987464,\n",
              "        0.88956648,  0.8543796 ,  0.83871964,  0.78035352,  0.52892425,\n",
              "        0.90024508,  0.88956648,  0.9045363 ,  0.82348195,  0.90742565,\n",
              "        0.92932695,  0.88165249,  0.78043252,  0.9367924 ,  0.90376184,\n",
              "        0.72467704,  0.8512109 ,  0.80938278,  0.76687203,  0.88499518,\n",
              "        0.70339292, -0.08705869,  0.8577239 ,  0.88525207,  0.82138649,\n",
              "        0.88867781,  0.94682014,  0.88368266,  0.90714397,  0.93098585,\n",
              "        0.91792509,  0.83154022,  0.95570031,  0.87102056,  0.81003703,\n",
              "        0.77492291,  0.87945942,  0.81922708,  0.82239006,  0.82138649,\n",
              "        0.89503979,  0.79515277,  0.83917565,  0.91962393,  0.84283713,\n",
              "        0.39015757,  0.92709462,  0.84013359,  0.94682014,  0.91792509,\n",
              "        0.77084942,  0.81003703,  0.89886547,  0.77770769,  0.82348195,\n",
              "        0.88322698,  0.82405604,  0.89548607,  0.78658732,  0.77532308,\n",
              "        0.90427668,  0.8924444 ,  0.92717552,  0.81506349,  0.90954564,\n",
              "        0.76381432,  0.84959311,  0.81590397,  0.8491872 ,  0.64803417,\n",
              "        0.89548607,  0.91044886,  0.85683234,  0.77532308,  0.7974149 ,\n",
              "        0.83596229,  0.89481281,  0.79771304,  0.76381432,  0.67651304,\n",
              "        0.89326814,  0.8491872 ,  0.84959311,  0.774171  ,  0.92717552,\n",
              "        0.91946927,  0.8543796 ,  0.87901188,  0.90024508,  0.88867781,\n",
              "        0.88330148,  0.82411105,  0.84496715,  0.91762043,  0.81308852,\n",
              "        0.88609282,  0.872685  ,  0.77532308,  0.8491872 ,  0.7744814 ,\n",
              "        0.75450177,  0.76381432,  0.88867781,  0.93550776,  0.82138649,\n",
              "        0.84959311,  0.8491872 ,  0.61528164,  0.91210993,  0.87901188,\n",
              "        0.774171  ,  0.8238327 ,  0.94996656,  0.90131118,  0.75524009,\n",
              "        0.82138649,  0.76687203,  0.82138649,  0.87901188,  0.92480917,\n",
              "        0.78482257,  0.76381432,  0.91762043,  0.85883456,  0.87102056,\n",
              "        0.8027432 ,  0.81506349,  0.94573251,  0.72766993,  0.92077193,\n",
              "        0.88376789,  0.9248835 ,  0.83610286,  0.91644197,  0.89503979,\n",
              "        0.76381432,  0.73655667,  0.88956648,  0.89055741,  0.93213383,\n",
              "        0.8512109 ,  0.67651304,  0.84013359,  0.86822647,  0.88322698,\n",
              "        0.8525314 ,  0.89481281,  0.81506349,  0.90742565,  0.81308852])"
            ]
          },
          "metadata": {
            "tags": []
          },
          "execution_count": 12
        }
      ]
    },
    {
      "cell_type": "code",
      "metadata": {
        "colab": {
          "base_uri": "https://localhost:8080/"
        },
        "id": "2LzBKlRDNKJq",
        "outputId": "57f5e905-8f05-46a4-ed1b-d0813afb08b5"
      },
      "source": [
        "rmse = np.sqrt(mean_squared_error(y_pred, y_test))\n",
        "print(f\"RMSE: {rmse}\")"
      ],
      "execution_count": 13,
      "outputs": [
        {
          "output_type": "stream",
          "text": [
            "RMSE: 2.8716100632177173\n"
          ],
          "name": "stdout"
        }
      ]
    },
    {
      "cell_type": "markdown",
      "metadata": {
        "id": "4p-qq3ioQId4"
      },
      "source": [
        "##Random ForestClassifier"
      ]
    },
    {
      "cell_type": "code",
      "metadata": {
        "id": "FGQ1z16gQCkH",
        "colab": {
          "base_uri": "https://localhost:8080/",
          "height": 388
        },
        "outputId": "427ab4e5-861e-4525-cc82-0880f3f61340"
      },
      "source": [
        "df_clf =df[[\"Target_Salary\",\"Target_Satisfied\",\"dti\",\"last_pymnt_amnt\"]]\n",
        "df_clf.head(11)\n"
      ],
      "execution_count": 14,
      "outputs": [
        {
          "output_type": "execute_result",
          "data": {
            "text/html": [
              "<div>\n",
              "<style scoped>\n",
              "    .dataframe tbody tr th:only-of-type {\n",
              "        vertical-align: middle;\n",
              "    }\n",
              "\n",
              "    .dataframe tbody tr th {\n",
              "        vertical-align: top;\n",
              "    }\n",
              "\n",
              "    .dataframe thead th {\n",
              "        text-align: right;\n",
              "    }\n",
              "</style>\n",
              "<table border=\"1\" class=\"dataframe\">\n",
              "  <thead>\n",
              "    <tr style=\"text-align: right;\">\n",
              "      <th></th>\n",
              "      <th>Target_Salary</th>\n",
              "      <th>Target_Satisfied</th>\n",
              "      <th>dti</th>\n",
              "      <th>last_pymnt_amnt</th>\n",
              "    </tr>\n",
              "  </thead>\n",
              "  <tbody>\n",
              "    <tr>\n",
              "      <th>0</th>\n",
              "      <td>42405</td>\n",
              "      <td>0</td>\n",
              "      <td>5.91</td>\n",
              "      <td>122.67</td>\n",
              "    </tr>\n",
              "    <tr>\n",
              "      <th>1</th>\n",
              "      <td>60740</td>\n",
              "      <td>1</td>\n",
              "      <td>16.06</td>\n",
              "      <td>926.35</td>\n",
              "    </tr>\n",
              "    <tr>\n",
              "      <th>2</th>\n",
              "      <td>51907.68</td>\n",
              "      <td>0</td>\n",
              "      <td>10.78</td>\n",
              "      <td>15813.3</td>\n",
              "    </tr>\n",
              "    <tr>\n",
              "      <th>3</th>\n",
              "      <td>51907.68</td>\n",
              "      <td>0</td>\n",
              "      <td>17.06</td>\n",
              "      <td>829.9</td>\n",
              "    </tr>\n",
              "    <tr>\n",
              "      <th>4</th>\n",
              "      <td>35</td>\n",
              "      <td>1</td>\n",
              "      <td>25.37</td>\n",
              "      <td>10128.96</td>\n",
              "    </tr>\n",
              "    <tr>\n",
              "      <th>5</th>\n",
              "      <td>35</td>\n",
              "      <td>0</td>\n",
              "      <td>10.2</td>\n",
              "      <td>7653.56</td>\n",
              "    </tr>\n",
              "    <tr>\n",
              "      <th>6</th>\n",
              "      <td>50598</td>\n",
              "      <td>0</td>\n",
              "      <td>14.67</td>\n",
              "      <td>15681.05</td>\n",
              "    </tr>\n",
              "    <tr>\n",
              "      <th>7</th>\n",
              "      <td>50623</td>\n",
              "      <td>1</td>\n",
              "      <td>17.61</td>\n",
              "      <td>14618.23</td>\n",
              "    </tr>\n",
              "    <tr>\n",
              "      <th>8</th>\n",
              "      <td>90000</td>\n",
              "      <td>0</td>\n",
              "      <td>13.07</td>\n",
              "      <td>1814.48</td>\n",
              "    </tr>\n",
              "    <tr>\n",
              "      <th>9</th>\n",
              "      <td>30683</td>\n",
              "      <td>0</td>\n",
              "      <td>34.8</td>\n",
              "      <td>4996.24</td>\n",
              "    </tr>\n",
              "    <tr>\n",
              "      <th>10</th>\n",
              "      <td>49492</td>\n",
              "      <td>0</td>\n",
              "      <td>22.98</td>\n",
              "      <td>508.3</td>\n",
              "    </tr>\n",
              "  </tbody>\n",
              "</table>\n",
              "</div>"
            ],
            "text/plain": [
              "   Target_Salary Target_Satisfied    dti last_pymnt_amnt\n",
              "0          42405                0   5.91          122.67\n",
              "1          60740                1  16.06          926.35\n",
              "2       51907.68                0  10.78         15813.3\n",
              "3       51907.68                0  17.06           829.9\n",
              "4             35                1  25.37        10128.96\n",
              "5             35                0   10.2         7653.56\n",
              "6          50598                0  14.67        15681.05\n",
              "7          50623                1  17.61        14618.23\n",
              "8          90000                0  13.07         1814.48\n",
              "9          30683                0   34.8         4996.24\n",
              "10         49492                0  22.98           508.3"
            ]
          },
          "metadata": {
            "tags": []
          },
          "execution_count": 14
        }
      ]
    },
    {
      "cell_type": "code",
      "metadata": {
        "colab": {
          "base_uri": "https://localhost:8080/"
        },
        "id": "X75EbscldzOE",
        "outputId": "0056a972-d13c-47d8-8806-d2724cb47e84"
      },
      "source": [
        "df_clf.info()"
      ],
      "execution_count": 15,
      "outputs": [
        {
          "output_type": "stream",
          "text": [
            "<class 'pandas.core.frame.DataFrame'>\n",
            "RangeIndex: 2946 entries, 0 to 2945\n",
            "Data columns (total 4 columns):\n",
            " #   Column            Non-Null Count  Dtype \n",
            "---  ------            --------------  ----- \n",
            " 0   Target_Salary     2946 non-null   object\n",
            " 1   Target_Satisfied  2946 non-null   object\n",
            " 2   dti               2946 non-null   object\n",
            " 3   last_pymnt_amnt   2946 non-null   object\n",
            "dtypes: object(4)\n",
            "memory usage: 92.2+ KB\n"
          ],
          "name": "stdout"
        }
      ]
    },
    {
      "cell_type": "code",
      "metadata": {
        "colab": {
          "base_uri": "https://localhost:8080/",
          "height": 172
        },
        "id": "iJU6idwoRsEJ",
        "outputId": "ba6960a4-07cf-48cb-de88-404f1b787411"
      },
      "source": [
        "df_clf.describe()"
      ],
      "execution_count": 16,
      "outputs": [
        {
          "output_type": "execute_result",
          "data": {
            "text/html": [
              "<div>\n",
              "<style scoped>\n",
              "    .dataframe tbody tr th:only-of-type {\n",
              "        vertical-align: middle;\n",
              "    }\n",
              "\n",
              "    .dataframe tbody tr th {\n",
              "        vertical-align: top;\n",
              "    }\n",
              "\n",
              "    .dataframe thead th {\n",
              "        text-align: right;\n",
              "    }\n",
              "</style>\n",
              "<table border=\"1\" class=\"dataframe\">\n",
              "  <thead>\n",
              "    <tr style=\"text-align: right;\">\n",
              "      <th></th>\n",
              "      <th>Target_Salary</th>\n",
              "      <th>Target_Satisfied</th>\n",
              "      <th>dti</th>\n",
              "      <th>last_pymnt_amnt</th>\n",
              "    </tr>\n",
              "  </thead>\n",
              "  <tbody>\n",
              "    <tr>\n",
              "      <th>count</th>\n",
              "      <td>2946</td>\n",
              "      <td>2946</td>\n",
              "      <td>2946</td>\n",
              "      <td>2946</td>\n",
              "    </tr>\n",
              "    <tr>\n",
              "      <th>unique</th>\n",
              "      <td>519</td>\n",
              "      <td>2</td>\n",
              "      <td>1898</td>\n",
              "      <td>2678</td>\n",
              "    </tr>\n",
              "    <tr>\n",
              "      <th>top</th>\n",
              "      <td>52524</td>\n",
              "      <td>0</td>\n",
              "      <td>25.43</td>\n",
              "      <td>465.27</td>\n",
              "    </tr>\n",
              "    <tr>\n",
              "      <th>freq</th>\n",
              "      <td>82</td>\n",
              "      <td>2327</td>\n",
              "      <td>6</td>\n",
              "      <td>11</td>\n",
              "    </tr>\n",
              "  </tbody>\n",
              "</table>\n",
              "</div>"
            ],
            "text/plain": [
              "       Target_Salary Target_Satisfied    dti last_pymnt_amnt\n",
              "count           2946             2946   2946            2946\n",
              "unique           519                2   1898            2678\n",
              "top            52524                0  25.43          465.27\n",
              "freq              82             2327      6              11"
            ]
          },
          "metadata": {
            "tags": []
          },
          "execution_count": 16
        }
      ]
    },
    {
      "cell_type": "code",
      "metadata": {
        "id": "nTBfjwMlQOUE"
      },
      "source": [
        "X = df_clf.drop(['Target_Satisfied'],axis=1).values\n",
        "y = df_clf['Target_Satisfied'].values\n"
      ],
      "execution_count": 17,
      "outputs": []
    },
    {
      "cell_type": "code",
      "metadata": {
        "colab": {
          "base_uri": "https://localhost:8080/"
        },
        "id": "R2Zc6NCWrJBV",
        "outputId": "4dff4d76-d90b-40dc-bf1d-b379542b148b"
      },
      "source": [
        "X"
      ],
      "execution_count": 18,
      "outputs": [
        {
          "output_type": "execute_result",
          "data": {
            "text/plain": [
              "array([['42405', '5.91', '122.67'],\n",
              "       ['60740', '16.06', '926.35'],\n",
              "       ['51907.68', '10.78', '15813.3'],\n",
              "       ...,\n",
              "       ['54100', '23.43', '23684.51'],\n",
              "       ['54100', '26.55', '170.36'],\n",
              "       ['36390', '35.9', '249.98']], dtype=object)"
            ]
          },
          "metadata": {
            "tags": []
          },
          "execution_count": 18
        }
      ]
    },
    {
      "cell_type": "code",
      "metadata": {
        "colab": {
          "base_uri": "https://localhost:8080/"
        },
        "id": "C8iB4XdDgKC9",
        "outputId": "5c1cf08d-eefc-465e-d744-cb8730d84bf3"
      },
      "source": [
        "y"
      ],
      "execution_count": 19,
      "outputs": [
        {
          "output_type": "execute_result",
          "data": {
            "text/plain": [
              "array(['0', '1', '0', ..., '0', '0', '0'], dtype=object)"
            ]
          },
          "metadata": {
            "tags": []
          },
          "execution_count": 19
        }
      ]
    },
    {
      "cell_type": "code",
      "metadata": {
        "id": "3LEknp9btO2V"
      },
      "source": [
        "X_train , X_test, y_train , y_test = train_test_split(X,y, test_size= 0.20,random_state= 21)"
      ],
      "execution_count": 20,
      "outputs": []
    },
    {
      "cell_type": "code",
      "metadata": {
        "id": "sJ9sB6UDuDZq"
      },
      "source": [
        "model = RandomForestClassifier(n_estimators=100, max_depth=20)"
      ],
      "execution_count": 21,
      "outputs": []
    },
    {
      "cell_type": "code",
      "metadata": {
        "colab": {
          "base_uri": "https://localhost:8080/"
        },
        "id": "TomHwgEEujT-",
        "outputId": "7a368830-961d-4da9-ecbe-35c5a6f17d43"
      },
      "source": [
        "model.fit(X_train, y_train)"
      ],
      "execution_count": 22,
      "outputs": [
        {
          "output_type": "execute_result",
          "data": {
            "text/plain": [
              "RandomForestClassifier(max_depth=20)"
            ]
          },
          "metadata": {
            "tags": []
          },
          "execution_count": 22
        }
      ]
    },
    {
      "cell_type": "code",
      "metadata": {
        "colab": {
          "base_uri": "https://localhost:8080/"
        },
        "id": "dKq255viFC38",
        "outputId": "e64f0c2c-542a-418a-a041-0db8f02ef0f9"
      },
      "source": [
        "# make class predictions\n",
        "y_pred = model.predict(X_test)\n",
        "accuracy=accuracy_score(y_test, y_pred)\n",
        "print(f'ACCURACY:{accuracy}')\n",
        "print('\\n')\n",
        "# generate classification report\n",
        "from sklearn import metrics\n",
        "print(metrics.classification_report(y_test, y_pred))"
      ],
      "execution_count": 23,
      "outputs": [
        {
          "output_type": "stream",
          "text": [
            "ACCURACY:0.7864406779661017\n",
            "\n",
            "\n",
            "              precision    recall  f1-score   support\n",
            "\n",
            "           0       0.80      0.98      0.88       472\n",
            "           1       0.21      0.03      0.05       118\n",
            "\n",
            "    accuracy                           0.79       590\n",
            "   macro avg       0.51      0.50      0.46       590\n",
            "weighted avg       0.68      0.79      0.71       590\n",
            "\n"
          ],
          "name": "stdout"
        }
      ]
    },
    {
      "cell_type": "markdown",
      "metadata": {
        "id": "57jzK9u-NX9Z"
      },
      "source": [
        "**f1 score is 0.88 show**"
      ]
    }
  ]
}